{
 "cells": [
  {
   "cell_type": "code",
   "execution_count": 4,
   "metadata": {
    "collapsed": true
   },
   "outputs": [],
   "source": [
    "from skimage import io\n",
    "import scipy.ndimage as ndi\n",
    "import numpy as np\n",
    "import matplotlib.pyplot as plt\n",
    "from scipy.signal import convolve2d"
   ]
  },
  {
   "cell_type": "code",
   "execution_count": 5,
   "outputs": [],
   "source": [
    "def Kuwahara(original, winsize):\n",
    "    image = original.astype(np.float64)\n",
    "    # make sure window size is correct\n",
    "    if winsize %4 != 1:\n",
    "        raise Exception (\"Invalid winsize %s: winsize must follow formula: w = 4*n+1.\" %winsize)\n",
    "\n",
    "    #Build subwindows(三角形朝下)\n",
    "    tmpavgker = np.ones(winsize)\n",
    "    for i in range(1,5):\n",
    "        tmpavgKerRow = np.hstack((np.zeros((1,i)),np.ones((1,winsize-i*2)),np.zeros((1,i))))\n",
    "        tmpavgker = np.vstack((tmpavgker,tmpavgKerRow))\n",
    "    tmpPadder = np.zeros(winsize)\n",
    "    tmpavgker = np.vstack((tmpavgker, np.tile(tmpPadder, ((winsize-1)//2,1))))\n",
    "    #平均濾波遮罩\n",
    "    tmpavgker = tmpavgker/np.sum(tmpavgker)\n",
    "\n",
    "    # tmpavgker is a 'north-west' subwindow (marked as 'a' above)\n",
    "    # we build a vector of convolution kernels for computing average and\n",
    "    # variance\n",
    "    avgker = np.empty((4,winsize,winsize)) # make an empty vector of arrays\n",
    "    avgker[0] = tmpavgker               # North (a)\n",
    "    avgker[1] = np.rot90(tmpavgker,3)   # East (b)\n",
    "    avgker[2] = np.flipud(tmpavgker)    # South (c)\n",
    "    avgker[3] = np.fliplr(avgker[1])    # West (d)\n",
    "\n",
    "    # Create a pixel-by-pixel square of the image\n",
    "    squaredImg = image**2\n",
    "   # preallocate these arrays to make it apparently %15 faster\n",
    "    avgs = np.zeros([4, image.shape[0],image.shape[1]])\n",
    "    stddevs = avgs.copy()\n",
    "\n",
    "    # Calculation of averages and variances on subwindows\n",
    "    for k in range(4):\n",
    "        # mean on subwindow(期望值)\n",
    "        avgs[k] = convolve2d(image, avgker[k],mode='same')\n",
    "        # mean of squares on subwindow(平方的期望值)\n",
    "        stddevs[k] = convolve2d(squaredImg, avgker[k],mode='same')\n",
    "        # variance on subwindow(算變異數:平方的平均-平均的平方)\n",
    "        stddevs[k] = stddevs[k]-avgs[k]**2\n",
    "   # Choice of index with minimum variance\n",
    "    indices = np.argmin(stddevs,0) # returns index of subwindow with smallest variance\n",
    "\n",
    "    # Building the filtered image (with nested for loops)\n",
    "    filtered = np.zeros(original.shape)\n",
    "    for row in range(original.shape[0]):\n",
    "        for col in range(original.shape[1]):\n",
    "            filtered[row,col] = avgs[indices[row,col], row,col]\n",
    "\n",
    "    #filtered=filtered.astype(np.uint8)\n",
    "    return filtered.astype(np.uint8)"
   ],
   "metadata": {
    "collapsed": false,
    "pycharm": {
     "name": "#%%\n"
    }
   }
  },
  {
   "cell_type": "code",
   "execution_count": 6,
   "outputs": [
    {
     "ename": "ValueError",
     "evalue": "could not broadcast input array from shape (11,13) into shape (13,13)",
     "output_type": "error",
     "traceback": [
      "\u001B[1;31m---------------------------------------------------------------------------\u001B[0m",
      "\u001B[1;31mValueError\u001B[0m                                Traceback (most recent call last)",
      "\u001B[1;32m<ipython-input-6-eb8936cfeea4>\u001B[0m in \u001B[0;36m<module>\u001B[1;34m\u001B[0m\n\u001B[0;32m      1\u001B[0m \u001B[0mc\u001B[0m \u001B[1;33m=\u001B[0m \u001B[0mio\u001B[0m\u001B[1;33m.\u001B[0m\u001B[0mimread\u001B[0m\u001B[1;33m(\u001B[0m\u001B[1;34m'lena512gray.jpg'\u001B[0m\u001B[1;33m)\u001B[0m\u001B[1;33m\u001B[0m\u001B[1;33m\u001B[0m\u001B[0m\n\u001B[0;32m      2\u001B[0m \u001B[1;33m\u001B[0m\u001B[0m\n\u001B[1;32m----> 3\u001B[1;33m \u001B[0mcK\u001B[0m\u001B[1;33m=\u001B[0m\u001B[0mKuwahara\u001B[0m\u001B[1;33m(\u001B[0m\u001B[0mc\u001B[0m\u001B[1;33m,\u001B[0m\u001B[1;36m13\u001B[0m\u001B[1;33m)\u001B[0m\u001B[1;33m\u001B[0m\u001B[1;33m\u001B[0m\u001B[0m\n\u001B[0m\u001B[0;32m      4\u001B[0m \u001B[1;33m\u001B[0m\u001B[0m\n\u001B[0;32m      5\u001B[0m \u001B[1;33m\u001B[0m\u001B[0m\n",
      "\u001B[1;32m<ipython-input-5-6d5a4bb9383f>\u001B[0m in \u001B[0;36mKuwahara\u001B[1;34m(original, winsize)\u001B[0m\n\u001B[0;32m     19\u001B[0m     \u001B[1;31m# variance\u001B[0m\u001B[1;33m\u001B[0m\u001B[1;33m\u001B[0m\u001B[1;33m\u001B[0m\u001B[0m\n\u001B[0;32m     20\u001B[0m     \u001B[0mavgker\u001B[0m \u001B[1;33m=\u001B[0m \u001B[0mnp\u001B[0m\u001B[1;33m.\u001B[0m\u001B[0mempty\u001B[0m\u001B[1;33m(\u001B[0m\u001B[1;33m(\u001B[0m\u001B[1;36m4\u001B[0m\u001B[1;33m,\u001B[0m\u001B[0mwinsize\u001B[0m\u001B[1;33m,\u001B[0m\u001B[0mwinsize\u001B[0m\u001B[1;33m)\u001B[0m\u001B[1;33m)\u001B[0m \u001B[1;31m# make an empty vector of arrays\u001B[0m\u001B[1;33m\u001B[0m\u001B[1;33m\u001B[0m\u001B[0m\n\u001B[1;32m---> 21\u001B[1;33m     \u001B[0mavgker\u001B[0m\u001B[1;33m[\u001B[0m\u001B[1;36m0\u001B[0m\u001B[1;33m]\u001B[0m \u001B[1;33m=\u001B[0m \u001B[0mtmpavgker\u001B[0m               \u001B[1;31m# North (a)\u001B[0m\u001B[1;33m\u001B[0m\u001B[1;33m\u001B[0m\u001B[0m\n\u001B[0m\u001B[0;32m     22\u001B[0m     \u001B[0mavgker\u001B[0m\u001B[1;33m[\u001B[0m\u001B[1;36m1\u001B[0m\u001B[1;33m]\u001B[0m \u001B[1;33m=\u001B[0m \u001B[0mnp\u001B[0m\u001B[1;33m.\u001B[0m\u001B[0mrot90\u001B[0m\u001B[1;33m(\u001B[0m\u001B[0mtmpavgker\u001B[0m\u001B[1;33m,\u001B[0m\u001B[1;36m3\u001B[0m\u001B[1;33m)\u001B[0m   \u001B[1;31m# East (b)\u001B[0m\u001B[1;33m\u001B[0m\u001B[1;33m\u001B[0m\u001B[0m\n\u001B[0;32m     23\u001B[0m     \u001B[0mavgker\u001B[0m\u001B[1;33m[\u001B[0m\u001B[1;36m2\u001B[0m\u001B[1;33m]\u001B[0m \u001B[1;33m=\u001B[0m \u001B[0mnp\u001B[0m\u001B[1;33m.\u001B[0m\u001B[0mflipud\u001B[0m\u001B[1;33m(\u001B[0m\u001B[0mtmpavgker\u001B[0m\u001B[1;33m)\u001B[0m    \u001B[1;31m# South (c)\u001B[0m\u001B[1;33m\u001B[0m\u001B[1;33m\u001B[0m\u001B[0m\n",
      "\u001B[1;31mValueError\u001B[0m: could not broadcast input array from shape (11,13) into shape (13,13)"
     ]
    }
   ],
   "source": [
    "c = io.imread('lena512gray.jpg')\n",
    "\n",
    "cK=Kuwahara(c,13)\n",
    "\n",
    "\n",
    "fig = plt.figure()\n",
    "plt.gray()  # show the filtered result in grayscale\n",
    "ax1 = fig.add_subplot(121)  # left side\n",
    "ax2 = fig.add_subplot(122)  # right side\n",
    "\n",
    "ax1.imshow(c/255,vmax=1.0,vmin=0.0)\n",
    "ax2.imshow(cK/255,vmax=1.0,vmin=0.0)\n",
    "\n",
    "plt.show()\n"
   ],
   "metadata": {
    "collapsed": false,
    "pycharm": {
     "name": "#%%\n"
    }
   }
  }
 ],
 "metadata": {
  "kernelspec": {
   "display_name": "Python 3",
   "language": "python",
   "name": "python3"
  },
  "language_info": {
   "codemirror_mode": {
    "name": "ipython",
    "version": 2
   },
   "file_extension": ".py",
   "mimetype": "text/x-python",
   "name": "python",
   "nbconvert_exporter": "python",
   "pygments_lexer": "ipython2",
   "version": "2.7.6"
  }
 },
 "nbformat": 4,
 "nbformat_minor": 0
}