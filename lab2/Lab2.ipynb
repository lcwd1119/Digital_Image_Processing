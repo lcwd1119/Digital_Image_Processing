{
 "cells": [
  {
   "cell_type": "code",
   "execution_count": 1,
   "metadata": {
    "collapsed": true
   },
   "outputs": [],
   "source": [
    "import cv2\n",
    "#以灰階圖的形式存取圖片\n",
    "gray = cv2.imread('lena512color.tiff',cv2.IMREAD_GRAYSCALE)\n",
    "#cv2.imshow('image',gray)\n",
    "#為將灰階圖反白故以255(最大值)減掉原圖的數值\n",
    "grayinverse = 255-gray\n",
    "#視窗內顯示結果\n",
    "cv2.imshow('1',grayinverse)\n",
    "#用指令儲存反白後的結果成另一張圖片\n",
    "cv2.imwrite(\"inverse.tiff\",grayinverse)\n",
    "cv2.waitKey(0)\n",
    "cv2.destroyAllWindows()"
   ]
  },
  {
   "cell_type": "code",
   "execution_count": 2,
   "outputs": [],
   "source": [
    "#算出平均灰階值\n",
    "avg = gray.mean()\n",
    "#大於平均設true小於設false以2值化圖片\n",
    "Binarization = gray > avg\n",
    "#將圖片的type由bool轉回uint8以輸出圖片\n",
    "Binarization = Binarization.astype('uint8')\n",
    "#大於平均值的新值為白色，小於平均值的給新值為黑色\n",
    "Binarization[Binarization == 1] = 255\n",
    "#視窗內顯示結果\n",
    "cv2.imshow('2',Binarization)\n",
    "#並用指令儲存二值化後的結果成另一張圖片\n",
    "cv2.imwrite(\"Binarization.tiff\",Binarization)\n",
    "cv2.waitKey(0)\n",
    "cv2.destroyAllWindows()\n"
   ],
   "metadata": {
    "collapsed": false,
    "pycharm": {
     "name": "#%%\n"
    }
   }
  }
 ],
 "metadata": {
  "kernelspec": {
   "display_name": "Python 3",
   "language": "python",
   "name": "python3"
  },
  "language_info": {
   "codemirror_mode": {
    "name": "ipython",
    "version": 2
   },
   "file_extension": ".py",
   "mimetype": "text/x-python",
   "name": "python",
   "nbconvert_exporter": "python",
   "pygments_lexer": "ipython2",
   "version": "2.7.6"
  }
 },
 "nbformat": 4,
 "nbformat_minor": 0
}