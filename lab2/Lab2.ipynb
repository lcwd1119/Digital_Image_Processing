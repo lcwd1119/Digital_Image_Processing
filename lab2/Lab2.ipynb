{
 "cells": [
  {
   "cell_type": "code",
   "execution_count": 12,
   "metadata": {
    "collapsed": true,
    "pycharm": {
     "name": "#%%\n"
    }
   },
   "outputs": [],
   "source": [
    "import cv2\n",
    "\n",
    "gray = cv2.imread('lena512color.tiff',cv2.IMREAD_GRAYSCALE)\n",
    "grayinverse = 255-gray\n",
    "avg = gray.mean()\n",
    "Binarization = gray > avg\n",
    "Binarization = Binarization.astype('uint8')\n",
    "Binarization[Binarization == 1] = 255\n",
    "cv2.imshow('image',gray)\n",
    "cv2.imshow('1',grayinverse)\n",
    "cv2.imshow('2',Binarization)\n",
    "cv2.imwrite(\"inverse.tiff\",grayinverse)\n",
    "cv2.imwrite(\"Binarization.tiff\",Binarization)\n",
    "cv2.waitKey(0)\n",
    "cv2.destroyAllWindows()"
   ]
  }
 ],
 "metadata": {
  "kernelspec": {
   "display_name": "Python 3",
   "language": "python",
   "name": "python3"
  },
  "language_info": {
   "codemirror_mode": {
    "name": "ipython",
    "version": 2
   },
   "file_extension": ".py",
   "mimetype": "text/x-python",
   "name": "python",
   "nbconvert_exporter": "python",
   "pygments_lexer": "ipython2",
   "version": "2.7.6"
  }
 },
 "nbformat": 4,
 "nbformat_minor": 0
}